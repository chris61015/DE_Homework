{
 "cells": [
  {
   "cell_type": "code",
   "execution_count": 31,
   "metadata": {},
   "outputs": [
    {
     "name": "stdout",
     "output_type": "stream",
     "text": [
      "Start Building Dictionary\n",
      "Finish Building Dictionary\n"
     ]
    }
   ],
   "source": [
    "from pyspark import SparkContext\n",
    "from pyspark.sql.functions import row_number, monotonically_increasing_id\n",
    "from pyspark.sql import SparkSession, Window\n",
    "import re\n",
    "\n",
    "\"\"\"\n",
    "Remove characters which is not alphabet and numbers and '-', the assumption is that the valid word should only be \n",
    "only alphabetic/numbers with '-' in the string (but not in the beginning and in the end)\n",
    "\"\"\"\n",
    "def stripNumAlphaNumCharsFromHeadAndTail(word):\n",
    "    return re.sub(r'[^a-zA-Z0-9-]','', word).strip(\"-\")\n",
    "\n",
    "\"\"\"\n",
    "Filter words that are not valid\n",
    "\"\"\"\n",
    "def cleanUp(word):\n",
    "    strippedWord = stripNumAlphaNumCharsFromHeadAndTail(word)\n",
    "    if not strippedWord: # Return false when the string is empty after removing invalid characters\n",
    "        return False\n",
    "    elif strippedWord[0].isnumeric(): # Return false when the stripped word starts with numbers\n",
    "        return False\n",
    "    else:\n",
    "        return True\n",
    "\"\"\"\n",
    "Build Dictionary\n",
    "\"\"\"\n",
    "def buildDictionary(sc):\n",
    "    # Load File\n",
    "    textFiles = sc.textFile(\"dataset/*\")\n",
    "    spark = SparkSession(sc)\n",
    "    \n",
    "    \n",
    "    print (\"Start Building Dictionary\")\n",
    "    # Create distinct words\n",
    "    sortedKeys = textFiles.flatMap(lambda line: line.split()).filter(cleanUp).map(lambda word: (stripNumAlphaNumCharsFromHeadAndTail(word), _)).groupByKey().sortByKey()\n",
    "    \n",
    "    # Create (word, wordId) pairs\n",
    "    df = spark.createDataFrame(sortedKeys, [\"word\",\"dummy\"]).drop(\"dummy\").withColumn(\"wordId\", row_number().over(Window.orderBy(monotonically_increasing_id())) - 1)\n",
    "    \n",
    "    # Write dictionary to a single csv file\n",
    "    df.toPandas().to_csv('dictionary.csv', index=False, header=False)\n",
    "    \n",
    "    print (\"Finish Building Dictionary\")\n",
    "\n",
    "def main(): \n",
    "    sc = SparkContext(master='local').getOrCreate()\n",
    "    buildDictionary(sc)\n",
    "    sc.stop()\n",
    "\n",
    "if __name__ == \"__main__\":\n",
    "    main()"
   ]
  },
  {
   "cell_type": "code",
   "execution_count": 2,
   "metadata": {},
   "outputs": [
    {
     "name": "stdout",
     "output_type": "stream",
     "text": [
      "Start Building Inverted Index\n",
      "Finish Building Inverted Index\n"
     ]
    }
   ],
   "source": [
    "from pyspark import SparkContext\n",
    "from pyspark.sql.functions import row_number, monotonically_increasing_id, col\n",
    "from pyspark.sql import SparkSession, Window\n",
    "import re\n",
    "\n",
    "\"\"\"\n",
    "Remove characters which is not alphabet and numbers and '-', the assumption is that the valid word should only be \n",
    "only alphabetic/numbers with '-' in the string (but not in the beginning and in the end)\n",
    "\"\"\"\n",
    "def stripNumAlphaNumCharsFromHeadAndTail(word):\n",
    "    return re.sub(r'[^a-zA-Z0-9-]','', word).strip(\"-\")\n",
    "\n",
    "\"\"\"\n",
    "Filter words that are not valid\n",
    "\"\"\"\n",
    "def cleanUp(word):\n",
    "    strippedWord = stripNumAlphaNumCharsFromHeadAndTail(word)\n",
    "    if not strippedWord:\n",
    "        return False\n",
    "    elif strippedWord[0].isnumeric():\n",
    "        return False\n",
    "    else:\n",
    "        return True\n",
    " \n",
    "\"\"\"\n",
    "Build Inverted index with the dictionary\n",
    "\"\"\"\n",
    "def buildInvertedIndex(sc):\n",
    "    spark = SparkSession(sc)\n",
    "    \n",
    "    # Load File\n",
    "    wholeTextFiles = sc.wholeTextFiles(\"dataset/*\")\n",
    "    dictionary = sc.textFile(\"dictionary.csv\")\n",
    "    \n",
    "    # Create python dictionary\n",
    "    df = spark.read.csv(\"dictionary.csv\", header=False).collect()\n",
    "    dic = {}\n",
    "    for row in df:\n",
    "        dic[row[0]] = row[1]\n",
    "    \n",
    "    print (\"Start Building Inverted Index\")\n",
    "    \n",
    "    # Build invered index with dictionary\n",
    "    invertedIndex = wholeTextFiles \\\n",
    "    .flatMap(lambda fileTuple: [(fileTuple[0].split('/')[-1], line) for line in fileTuple[1].splitlines()]) \\\n",
    "    .flatMap(lambda lineTuple: [(lineTuple[0], word) for word in lineTuple[1].split()]).filter(lambda wordTuple: cleanUp(wordTuple[1])) \\\n",
    "    .map(lambda wordTuple: (stripNumAlphaNumCharsFromHeadAndTail(wordTuple[1]),wordTuple[0])) \\\n",
    "    .map(lambda wordTuple: (dic[wordTuple[0]], wordTuple[1])).sortBy(lambda tup: (int(tup[0]), int(tup[1]))) \\\n",
    "    .map(lambda tup: (tup[0], set([tup[1]]))) \\\n",
    "    .reduceByKey(lambda v1,v2: v1 | v2).map(lambda t: (int(t[0]), sorted([int(v) for v in t[1]]))).sortByKey(True, 1)\n",
    "      \n",
    "    # Save file\n",
    "    invertedIndex.saveAsTextFile(\"invertedIndex\")\n",
    "    print (\"Finish Building Inverted Index\")\n",
    "\n",
    "def main(): \n",
    "    sc = SparkContext.getOrCreate()\n",
    "    buildInvertedIndex(sc)\n",
    "    sc.stop()\n",
    "    \n",
    "if __name__ == \"__main__\":\n",
    "    main()"
   ]
  },
  {
   "cell_type": "code",
   "execution_count": null,
   "metadata": {},
   "outputs": [],
   "source": []
  }
 ],
 "metadata": {
  "kernelspec": {
   "display_name": "Python 3",
   "language": "python",
   "name": "python3"
  },
  "language_info": {
   "codemirror_mode": {
    "name": "ipython",
    "version": 3
   },
   "file_extension": ".py",
   "mimetype": "text/x-python",
   "name": "python",
   "nbconvert_exporter": "python",
   "pygments_lexer": "ipython3",
   "version": "3.8.5"
  }
 },
 "nbformat": 4,
 "nbformat_minor": 4
}
